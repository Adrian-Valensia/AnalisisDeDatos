{
 "cells": [
  {
   "cell_type": "code",
   "execution_count": 5,
   "metadata": {},
   "outputs": [
    {
     "name": "stdout",
     "output_type": "stream",
     "text": [
      "Falso\n",
      "Hola\n"
     ]
    }
   ],
   "source": [
    "# Indentacion\n",
    "v1 = 3\n",
    "if v1 == 6 :\n",
    "    print(\"Verdadero\")\n",
    "    print(\"WWW\")\n",
    "else:\n",
    "    print(\"Falso\")\n",
    "\n",
    "print(\"Hola\")\n"
   ]
  },
  {
   "cell_type": "code",
   "execution_count": 6,
   "metadata": {},
   "outputs": [],
   "source": [
    "# Comentarios\n",
    "# Validar variable1\n",
    "\n",
    "def my_func():\n",
    "    \"\"\"\n",
    "    esta funcion hace x cosa\n",
    "    variable entrada:\n",
    "    salida:\n",
    "    \n",
    "    \"\"\"\n",
    "    pass"
   ]
  },
  {
   "cell_type": "code",
   "execution_count": 7,
   "metadata": {},
   "outputs": [],
   "source": [
    "# Variables en python\n",
    "\n",
    "var1 = 5\n",
    "var2 = \"Datapath\"\n",
    "var3 = 2.0\n",
    "var4 = 4j"
   ]
  },
  {
   "cell_type": "code",
   "execution_count": 11,
   "metadata": {},
   "outputs": [
    {
     "name": "stdout",
     "output_type": "stream",
     "text": [
      "<class 'complex'>\n"
     ]
    }
   ],
   "source": [
    "print(type(var4))"
   ]
  },
  {
   "cell_type": "code",
   "execution_count": 12,
   "metadata": {},
   "outputs": [],
   "source": [
    "a, b, c = \"Manzana\", \"Platano\", \"Cereza\""
   ]
  },
  {
   "cell_type": "code",
   "execution_count": null,
   "metadata": {},
   "outputs": [
    {
     "name": "stdout",
     "output_type": "stream",
     "text": [
      "Hola\n",
      "Hola\n"
     ]
    }
   ],
   "source": [
    "# variables locales\n",
    "\n",
    "x = \"Hola\"\n",
    "\n",
    "def my_func():\n",
    "    x = \"Mundo\"\n",
    "    print(x)\n",
    "\n",
    "my_func()\n",
    "print(x)"
   ]
  },
  {
   "cell_type": "code",
   "execution_count": 17,
   "metadata": {},
   "outputs": [],
   "source": [
    "# Tipos de datos en python\n",
    "# String\n",
    "# Numericos\n",
    "# List\n",
    "# Diccionarios\n",
    "# Tuplas"
   ]
  },
  {
   "cell_type": "code",
   "execution_count": 21,
   "metadata": {},
   "outputs": [
    {
     "name": "stdout",
     "output_type": "stream",
     "text": [
      "Hola Mundo\n",
      "a\n",
      "Hola \n"
     ]
    }
   ],
   "source": [
    "# String \n",
    "\n",
    "a_str = \"Hola Mundo\"\n",
    "print(a_str)\n",
    "print(a_str[3])\n",
    "print(a_str[0:5])"
   ]
  },
  {
   "cell_type": "code",
   "execution_count": 22,
   "metadata": {},
   "outputs": [],
   "source": [
    "# tipos numericos\n",
    "\n",
    "a = 5\n",
    "b = 2.0 \n",
    "c = 4j"
   ]
  },
  {
   "cell_type": "code",
   "execution_count": 23,
   "metadata": {},
   "outputs": [],
   "source": [
    "# Tipo de datos Listas\n",
    "lista1 = [3, 5, 7]\n",
    "\n",
    "lista2 = [\"hola\", \"mundo\"]\n",
    "\n",
    "lista3 = [3, \"Hola\", 44.4, 5j]\n",
    "\n",
    "lista4 = [3, \"Hola\", 44.4, 5j, [1, 4, 6]] # Lista anidada\n",
    "\n",
    "lista5 = []"
   ]
  },
  {
   "cell_type": "code",
   "execution_count": 24,
   "metadata": {},
   "outputs": [
    {
     "name": "stdout",
     "output_type": "stream",
     "text": [
      "3\n",
      "Hola\n",
      "44.4\n",
      "5j\n"
     ]
    }
   ],
   "source": [
    "print(lista3[0])\n",
    "print(lista3[1])\n",
    "print(lista3[2])\n",
    "print(lista3[3])"
   ]
  },
  {
   "cell_type": "code",
   "execution_count": 26,
   "metadata": {},
   "outputs": [
    {
     "name": "stdout",
     "output_type": "stream",
     "text": [
      "6\n"
     ]
    }
   ],
   "source": [
    "print(lista4[4][2])"
   ]
  },
  {
   "cell_type": "code",
   "execution_count": 27,
   "metadata": {},
   "outputs": [
    {
     "ename": "TypeError",
     "evalue": "list indices must be integers or slices, not float",
     "output_type": "error",
     "traceback": [
      "\u001b[0;31m---------------------------------------------------------------------------\u001b[0m",
      "\u001b[0;31mTypeError\u001b[0m                                 Traceback (most recent call last)",
      "Cell \u001b[0;32mIn[27], line 1\u001b[0m\n\u001b[0;32m----> 1\u001b[0m \u001b[38;5;28mprint\u001b[39m(\u001b[43mlista4\u001b[49m\u001b[43m[\u001b[49m\u001b[38;5;241;43m4.0\u001b[39;49m\u001b[43m]\u001b[49m)\n",
      "\u001b[0;31mTypeError\u001b[0m: list indices must be integers or slices, not float"
     ]
    }
   ],
   "source": [
    "print(lista4[4.0])"
   ]
  },
  {
   "cell_type": "code",
   "execution_count": 28,
   "metadata": {},
   "outputs": [
    {
     "name": "stdout",
     "output_type": "stream",
     "text": [
      "5j\n"
     ]
    }
   ],
   "source": [
    "print(lista3[-1])"
   ]
  },
  {
   "cell_type": "code",
   "execution_count": 30,
   "metadata": {},
   "outputs": [
    {
     "name": "stdout",
     "output_type": "stream",
     "text": [
      "[4, 6, 7, 8]\n"
     ]
    }
   ],
   "source": [
    "lista6 = [1, 4, 6, 7, 8, 99, 78, 10]\n",
    "\n",
    "print(lista6[1:5])"
   ]
  },
  {
   "cell_type": "code",
   "execution_count": 31,
   "metadata": {},
   "outputs": [
    {
     "name": "stdout",
     "output_type": "stream",
     "text": [
      "[99, 78, 10]\n"
     ]
    }
   ],
   "source": [
    "print(lista6[5:])"
   ]
  },
  {
   "cell_type": "code",
   "execution_count": 32,
   "metadata": {},
   "outputs": [
    {
     "name": "stdout",
     "output_type": "stream",
     "text": [
      "[33, 4, 6, 7, 8, 99, 78, 10]\n"
     ]
    }
   ],
   "source": [
    "lista6[0] = 33\n",
    "print(lista6)"
   ]
  },
  {
   "cell_type": "code",
   "execution_count": 33,
   "metadata": {},
   "outputs": [
    {
     "name": "stdout",
     "output_type": "stream",
     "text": [
      "[33, 4, 6, 7, 8, 99, 78, 10, 12]\n"
     ]
    }
   ],
   "source": [
    "lista6.append(12)\n",
    "print(lista6)"
   ]
  },
  {
   "cell_type": "code",
   "execution_count": 34,
   "metadata": {},
   "outputs": [
    {
     "name": "stdout",
     "output_type": "stream",
     "text": [
      "[33, 4, 6, 7, 8, 99, 78, 10, 12, [77, 88, 55]]\n"
     ]
    }
   ],
   "source": [
    "lista6.append([77,88,55])\n",
    "print(lista6)"
   ]
  },
  {
   "cell_type": "code",
   "execution_count": 35,
   "metadata": {},
   "outputs": [
    {
     "name": "stdout",
     "output_type": "stream",
     "text": [
      "[33, 4, 6, 7, 8, 99, 78, 10, 12, [77, 88, 55], 77, 88, 55]\n"
     ]
    }
   ],
   "source": [
    "lista6.extend([77,88,55])\n",
    "print(lista6)"
   ]
  },
  {
   "cell_type": "code",
   "execution_count": 36,
   "metadata": {},
   "outputs": [
    {
     "name": "stdout",
     "output_type": "stream",
     "text": [
      "33\n",
      "4\n",
      "6\n",
      "7\n",
      "8\n",
      "99\n",
      "78\n",
      "10\n",
      "12\n",
      "[77, 88, 55]\n",
      "77\n",
      "88\n",
      "55\n"
     ]
    }
   ],
   "source": [
    "for elem in lista6:\n",
    "    print(elem)"
   ]
  },
  {
   "cell_type": "code",
   "execution_count": 37,
   "metadata": {},
   "outputs": [],
   "source": [
    "# Tuplas\n",
    "tupla1 = ()\n",
    "\n",
    "tupla2 = (1, 4, 5)\n",
    "\n",
    "tupla3 = (1, 4.0, \"hola\")\n",
    "\n",
    "tupla4 = (\"manzana\", 1, 3j, [1,3,4], (6,7,8))"
   ]
  },
  {
   "cell_type": "code",
   "execution_count": 38,
   "metadata": {},
   "outputs": [
    {
     "name": "stdout",
     "output_type": "stream",
     "text": [
      "1\n"
     ]
    }
   ],
   "source": [
    "print(tupla2[0])"
   ]
  },
  {
   "cell_type": "code",
   "execution_count": 39,
   "metadata": {},
   "outputs": [
    {
     "ename": "TypeError",
     "evalue": "'tuple' object does not support item assignment",
     "output_type": "error",
     "traceback": [
      "\u001b[0;31m---------------------------------------------------------------------------\u001b[0m",
      "\u001b[0;31mTypeError\u001b[0m                                 Traceback (most recent call last)",
      "Cell \u001b[0;32mIn[39], line 1\u001b[0m\n\u001b[0;32m----> 1\u001b[0m \u001b[43mtupla2\u001b[49m\u001b[43m[\u001b[49m\u001b[38;5;241;43m0\u001b[39;49m\u001b[43m]\u001b[49m \u001b[38;5;241m=\u001b[39m \u001b[38;5;124m\"\u001b[39m\u001b[38;5;124mmundo\u001b[39m\u001b[38;5;124m\"\u001b[39m\n",
      "\u001b[0;31mTypeError\u001b[0m: 'tuple' object does not support item assignment"
     ]
    }
   ],
   "source": [
    "tupla2[0] = \"mundo\""
   ]
  },
  {
   "cell_type": "code",
   "execution_count": 41,
   "metadata": {},
   "outputs": [
    {
     "name": "stdout",
     "output_type": "stream",
     "text": [
      "<class 'str'>\n"
     ]
    }
   ],
   "source": [
    "tupla = (\"hello\")\n",
    "print(type(tupla))"
   ]
  },
  {
   "cell_type": "code",
   "execution_count": 42,
   "metadata": {},
   "outputs": [
    {
     "name": "stdout",
     "output_type": "stream",
     "text": [
      "<class 'tuple'>\n"
     ]
    }
   ],
   "source": [
    "tupla = (\"hello\",)\n",
    "print(type(tupla))"
   ]
  },
  {
   "cell_type": "code",
   "execution_count": 45,
   "metadata": {},
   "outputs": [
    {
     "name": "stdout",
     "output_type": "stream",
     "text": [
      "<class 'tuple'>\n"
     ]
    }
   ],
   "source": [
    "tupla = \"a\",\n",
    "print(type(tupla))"
   ]
  },
  {
   "cell_type": "code",
   "execution_count": 44,
   "metadata": {},
   "outputs": [
    {
     "name": "stdout",
     "output_type": "stream",
     "text": [
      "a\n",
      "b\n",
      "c\n"
     ]
    }
   ],
   "source": [
    "for elem in tupla:\n",
    "    print(elem)"
   ]
  },
  {
   "cell_type": "code",
   "execution_count": 46,
   "metadata": {},
   "outputs": [],
   "source": [
    "# Diccionarios\n",
    "\n",
    "dic1 = {}\n",
    "dic2 = {\n",
    "        1: \"hola\",\n",
    "        2: \"mundo\"\n",
    "    }\n",
    "dic3 = {\n",
    "    'nombre': \"Juan\",\n",
    "    1 : 2345\n",
    "}\n"
   ]
  },
  {
   "cell_type": "code",
   "execution_count": 47,
   "metadata": {},
   "outputs": [
    {
     "name": "stdout",
     "output_type": "stream",
     "text": [
      "<class 'dict'>\n"
     ]
    }
   ],
   "source": [
    "print(type (dic3))"
   ]
  },
  {
   "cell_type": "code",
   "execution_count": null,
   "metadata": {},
   "outputs": [
    {
     "name": "stdout",
     "output_type": "stream",
     "text": [
      "Juan\n",
      "26\n"
     ]
    }
   ],
   "source": [
    "dict_persona = {\n",
    "    'nombre': 'Juan',\n",
    "    'edad': 26\n",
    "}\n",
    "\n",
    "print(dict_persona['nombre'])\n",
    "print(dict_persona['edad'])"
   ]
  },
  {
   "cell_type": "code",
   "execution_count": 49,
   "metadata": {},
   "outputs": [
    {
     "ename": "KeyError",
     "evalue": "'direccion'",
     "output_type": "error",
     "traceback": [
      "\u001b[0;31m---------------------------------------------------------------------------\u001b[0m",
      "\u001b[0;31mKeyError\u001b[0m                                  Traceback (most recent call last)",
      "Cell \u001b[0;32mIn[49], line 1\u001b[0m\n\u001b[0;32m----> 1\u001b[0m \u001b[38;5;28mprint\u001b[39m(\u001b[43mdict_persona\u001b[49m\u001b[43m[\u001b[49m\u001b[38;5;124;43m'\u001b[39;49m\u001b[38;5;124;43mdireccion\u001b[39;49m\u001b[38;5;124;43m'\u001b[39;49m\u001b[43m]\u001b[49m)\n",
      "\u001b[0;31mKeyError\u001b[0m: 'direccion'"
     ]
    }
   ],
   "source": [
    "print(dict_persona['direccion'])\n"
   ]
  },
  {
   "cell_type": "code",
   "execution_count": 52,
   "metadata": {},
   "outputs": [
    {
     "name": "stdout",
     "output_type": "stream",
     "text": [
      "-\n"
     ]
    }
   ],
   "source": [
    "print(dict_persona.get(\"direccion\", \"-\"))"
   ]
  },
  {
   "cell_type": "code",
   "execution_count": 55,
   "metadata": {},
   "outputs": [],
   "source": [
    "dict_persona[\"direccion\"] = \"Peru\""
   ]
  },
  {
   "cell_type": "code",
   "execution_count": 56,
   "metadata": {},
   "outputs": [
    {
     "name": "stdout",
     "output_type": "stream",
     "text": [
      "Peru\n"
     ]
    }
   ],
   "source": [
    "print(dict_persona['direccion'])"
   ]
  },
  {
   "cell_type": "code",
   "execution_count": 57,
   "metadata": {},
   "outputs": [
    {
     "name": "stdout",
     "output_type": "stream",
     "text": [
      "nombre Juan\n",
      "edad 26\n",
      "direccion Peru\n"
     ]
    }
   ],
   "source": [
    "for key in dict_persona:\n",
    "    print( key , dict_persona[key])"
   ]
  },
  {
   "cell_type": "code",
   "execution_count": 62,
   "metadata": {},
   "outputs": [
    {
     "name": "stdout",
     "output_type": "stream",
     "text": [
      "Condicion verdadera\n",
      "Variable mayor 3, pero menor igual a 5\n"
     ]
    }
   ],
   "source": [
    "# control de flujo\n",
    "var1 = 5\n",
    "\n",
    "if var1 > 3:\n",
    "    print(\"Condicion verdadera\")\n",
    "    if var1 <= 5:\n",
    "        print(\"Variable mayor 3, pero menor igual a 5\")\n",
    "    else:\n",
    "        print(\"Variable mayor que 5\")\n",
    "\n",
    "else:\n",
    "    print(\"Condicion Falsa\") "
   ]
  },
  {
   "cell_type": "code",
   "execution_count": 65,
   "metadata": {},
   "outputs": [
    {
     "name": "stdout",
     "output_type": "stream",
     "text": [
      "0\n",
      "1\n",
      "2\n",
      "3\n",
      "4\n",
      "10\n"
     ]
    }
   ],
   "source": [
    "# FOR\n",
    "suma = 0\n",
    "for num in range(5):\n",
    "    print(num)\n",
    "    suma = suma + num\n",
    "\n",
    "print(suma)"
   ]
  },
  {
   "cell_type": "code",
   "execution_count": 67,
   "metadata": {},
   "outputs": [
    {
     "name": "stdout",
     "output_type": "stream",
     "text": [
      "0\n",
      "1\n",
      "2\n",
      "3\n",
      "4\n",
      "5\n"
     ]
    }
   ],
   "source": [
    "# While\n",
    "\n",
    "i = 0\n",
    "\n",
    "while i <= 5:\n",
    "    print(i)\n",
    "    i = i + 1"
   ]
  },
  {
   "cell_type": "code",
   "execution_count": 69,
   "metadata": {},
   "outputs": [
    {
     "name": "stdout",
     "output_type": "stream",
     "text": [
      "hola mundo\n",
      "float division by zero\n"
     ]
    }
   ],
   "source": [
    "try:\n",
    "    print(\"hola mundo\")\n",
    "    a = b / 0\n",
    "\n",
    "    print(\"Paso division\")\n",
    "\n",
    "except Exception as e:\n",
    "    print(e)"
   ]
  },
  {
   "cell_type": "code",
   "execution_count": 70,
   "metadata": {},
   "outputs": [
    {
     "name": "stdout",
     "output_type": "stream",
     "text": [
      "Hola Mundo\n"
     ]
    }
   ],
   "source": [
    "def my_funct():\n",
    "    print(\"Hola Mundo\")\n",
    "\n",
    "my_funct()"
   ]
  },
  {
   "cell_type": "code",
   "execution_count": 74,
   "metadata": {},
   "outputs": [
    {
     "name": "stdout",
     "output_type": "stream",
     "text": [
      "Hola  Juan\n",
      "Juan\n"
     ]
    }
   ],
   "source": [
    "def my_funct(nombre):\n",
    "    print(\"Hola \",nombre)\n",
    "    return nombre\n",
    "\n",
    "var1 = my_funct(\"Juan\")\n",
    "print(var1)"
   ]
  },
  {
   "cell_type": "code",
   "execution_count": 76,
   "metadata": {},
   "outputs": [
    {
     "name": "stdout",
     "output_type": "stream",
     "text": [
      "Hola mundo\n"
     ]
    }
   ],
   "source": [
    "saludo = lambda: \"Hola mundo\"\n",
    "\n",
    "print(saludo())"
   ]
  },
  {
   "cell_type": "code",
   "execution_count": 77,
   "metadata": {},
   "outputs": [
    {
     "name": "stdout",
     "output_type": "stream",
     "text": [
      "3\n"
     ]
    }
   ],
   "source": [
    "def suma(a, b):\n",
    "    return a + b\n",
    "\n",
    "print(suma(1,2))"
   ]
  },
  {
   "cell_type": "code",
   "execution_count": 78,
   "metadata": {},
   "outputs": [
    {
     "name": "stdout",
     "output_type": "stream",
     "text": [
      "9\n"
     ]
    }
   ],
   "source": [
    "suma = lambda a,b : a + b\n",
    "print(suma(4, 5))"
   ]
  },
  {
   "cell_type": "markdown",
   "metadata": {},
   "source": [
    "- Funcion para eliminar duplicados de una lista\n",
    "- Funcion para buscar un elemento en una lista\n",
    "- Funcion para hallar el factorial de un numero\n",
    "- Funcion que sume numeros pares"
   ]
  },
  {
   "cell_type": "markdown",
   "metadata": {},
   "source": []
  },
  {
   "cell_type": "code",
   "execution_count": 79,
   "metadata": {},
   "outputs": [
    {
     "name": "stdout",
     "output_type": "stream",
     "text": [
      "[1, 2, 3, 4, 5]\n"
     ]
    },
    {
     "data": {
      "text/plain": [
       "120"
      ]
     },
     "execution_count": 79,
     "metadata": {},
     "output_type": "execute_result"
    }
   ],
   "source": [
    "def factorial(numero):\n",
    "    x = 1\n",
    "    numeros = list(range(1, numero + 1))\n",
    "    print(numeros)\n",
    "    for i in numeros:\n",
    "        x = x * i\n",
    "    return x\n",
    "\n",
    "numero = 5\n",
    "a = factorial(numero)\n",
    "a"
   ]
  },
  {
   "cell_type": "code",
   "execution_count": null,
   "metadata": {},
   "outputs": [],
   "source": [
    "#Numeros Pares\n",
    "def Pares(numbers:list):\n",
    "    return sum([num for num in numbers if num % 2 == 0])\n",
    "\n",
    "#Funcion para eliminar duplicados de una lista\n",
    "\n",
    "def drop_list(a:list):\n",
    "    return list(set(a))\n",
    "\n",
    "#Busqueda de elementos\n",
    "\n",
    "def search_item(value:str,a:list):\n",
    "    if value in a:\n",
    "        return True\n",
    "    else:\n",
    "        return False"
   ]
  },
  {
   "cell_type": "code",
   "execution_count": 81,
   "metadata": {},
   "outputs": [
    {
     "name": "stdout",
     "output_type": "stream",
     "text": [
      "El elemento si se encuentra en la lista\n"
     ]
    }
   ],
   "source": [
    "def buscar_elemento(lista1,elemento):\n",
    "    if elemento in lista1:\n",
    "        print('El elemento si se encuentra en la lista')\n",
    "    else:\n",
    "        print('El elemento no se encuentra en la lista')\n",
    "buscar_elemento([22,34,78],34)"
   ]
  },
  {
   "cell_type": "code",
   "execution_count": 83,
   "metadata": {},
   "outputs": [],
   "source": [
    "def eliminarDuplicados(var):\n",
    "    aux = {}\n",
    "    for i in var:\n",
    "        if i in aux:\n",
    "            aux[i] += 1\n",
    "        else:\n",
    "            aux[i] = 1\n",
    "    return list(aux.keys())\n",
    "\n",
    "def sumaPares(var):\n",
    "    aux = 0\n",
    "    for i in range(var):\n",
    "        aux += 2\n",
    "    return aux\n",
    "\n",
    "def factorial(n):\n",
    "    aux = 1\n",
    "    for i in range(1,n+1):\n",
    "        aux *= i\n",
    "    return aux\n",
    "\n",
    "def busquedaElementos(var,val):\n",
    "  aux = {}\n",
    "  for i in range(len(var)):\n",
    "    if var[i] in aux:\n",
    "\n",
    "      aux[var[i]] += [i]\n",
    "    else:\n",
    "        aux[var[i]] = [i]\n",
    "    return aux[val] if val in aux.keys() else []"
   ]
  },
  {
   "cell_type": "code",
   "execution_count": null,
   "metadata": {},
   "outputs": [],
   "source": []
  }
 ],
 "metadata": {
  "kernelspec": {
   "display_name": "Python 3",
   "language": "python",
   "name": "python3"
  },
  "language_info": {
   "codemirror_mode": {
    "name": "ipython",
    "version": 3
   },
   "file_extension": ".py",
   "mimetype": "text/x-python",
   "name": "python",
   "nbconvert_exporter": "python",
   "pygments_lexer": "ipython3",
   "version": "3.12.1"
  }
 },
 "nbformat": 4,
 "nbformat_minor": 2
}
